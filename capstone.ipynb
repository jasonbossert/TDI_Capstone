{
 "cells": [
  {
   "cell_type": "code",
   "execution_count": 4,
   "metadata": {},
   "outputs": [],
   "source": [
    "import pandas as pd\n",
    "import seaborn as sns\n",
    "import json\n",
    "import itertools\n",
    "import numpy as np\n",
    "import os\n",
    "from functools import partial\n",
    "import seaborn as sns\n",
    "\n",
    "import nest_asyncio\n",
    "nest_asyncio.apply()\n",
    "\n",
    "import stan"
   ]
  },
  {
   "cell_type": "markdown",
   "metadata": {},
   "source": [
    "## Define data convert functions"
   ]
  },
  {
   "cell_type": "code",
   "execution_count": 42,
   "metadata": {},
   "outputs": [],
   "source": [
    "def peek(iterable):\n",
    "    try:\n",
    "        first = next(iterable)\n",
    "    except StopIteration:\n",
    "        return None\n",
    "    return first, itertools.chain([first], iterable)"
   ]
  },
  {
   "cell_type": "code",
   "execution_count": 43,
   "metadata": {},
   "outputs": [],
   "source": [
    "def json_to_feather(filename, new_filename_base, records_per_file = 1000000, pipe_func = None):\n",
    "\n",
    "    records = map(json.loads, open(filename))\n",
    "    \n",
    "    records_per_file = 1000000\n",
    "\n",
    "    file_num = 0\n",
    "    peek_res = peek(records)\n",
    "    while peek_res is not None:\n",
    "        _, records = peek_res\n",
    "        data = pd.DataFrame.from_records(records, nrows = records_per_file)\n",
    "        data.to_feather(f\"{new_filename_base}_tmp_{file_num}.feather\")\n",
    "        peek_res = peek(records)\n",
    "        file_num += 1\n",
    "        \n",
    "    dfs = list()\n",
    "    for read_num in range(file_num):\n",
    "        tmp_filename = f\"{new_filename_base}_tmp_{read_num}.feather\"\n",
    "        small_df = pd.read_feather(tmp_filename)\n",
    "        if pipe_func is not None:\n",
    "            small_df = small_df.pipe(pipe_func)\n",
    "                   \n",
    "        dfs.append(small_df)\n",
    "        os.remove(tmp_filename)\n",
    "    \n",
    "    data = pd.concat(dfs, axis = 0).reset_index()\n",
    "    data.to_feather(f\"{new_filename_base}.feather\")"
   ]
  },
  {
   "cell_type": "code",
   "execution_count": 44,
   "metadata": {},
   "outputs": [],
   "source": [
    "def starts_with(df, start_str):\n",
    "    mask = df.columns.str.startswith(start_str)\n",
    "    columns = list(df.columns[mask])\n",
    "    return(columns)"
   ]
  },
  {
   "cell_type": "code",
   "execution_count": 45,
   "metadata": {},
   "outputs": [],
   "source": [
    "def pipeable_drop(df, labels):\n",
    "    return(df.drop(columns = labels))\n",
    "\n",
    "def pipeable_drop_startswith(df, labels, start):\n",
    "    new_df = (df.drop(columns = labels)\n",
    "                .pipe(lambda x: x.drop(columns = starts_with(x, start)))\n",
    "             )\n",
    "    return(new_df)"
   ]
  },
  {
   "cell_type": "markdown",
   "metadata": {},
   "source": [
    "## Convert Data to Feather"
   ]
  },
  {
   "cell_type": "code",
   "execution_count": 46,
   "metadata": {},
   "outputs": [],
   "source": [
    "filename = \"yelp_academic_dataset_business.json\"\n",
    "new_filename_base = \"yelp_business\"\n",
    "\n",
    "business_drop = partial(pipeable_drop, labels = [\"address\", \"is_open\", \"attributes\", \"hours\"])\n",
    "\n",
    "json_to_feather(filename, new_filename_base, pipe_func = business_drop)"
   ]
  },
  {
   "cell_type": "code",
   "execution_count": 47,
   "metadata": {},
   "outputs": [],
   "source": [
    "filename = \"yelp_academic_dataset_user.json\"\n",
    "new_filename_base = \"yelp_user\"\n",
    "\n",
    "users_drop = partial(pipeable_drop_startswith, \n",
    "                               labels = [\"name\", \"useful\", \"funny\", \"cool\", \"elite\", \"friends\", \"fans\"],\n",
    "                               start = \"compliment\")\n",
    "\n",
    "json_to_feather(filename, new_filename_base, pipe_func = users_drop)"
   ]
  },
  {
   "cell_type": "code",
   "execution_count": 48,
   "metadata": {},
   "outputs": [],
   "source": [
    "filename = \"yelp_academic_dataset_review.json\"\n",
    "new_filename_base = \"yelp_review\"\n",
    "\n",
    "review_drop = partial(pipeable_drop, labels = [\"text\"])\n",
    "\n",
    "json_to_feather(filename, new_filename_base, pipe_func = review_drop)"
   ]
  }
 ],
 "metadata": {
  "kernelspec": {
   "display_name": "Python 3",
   "language": "python",
   "name": "python3"
  },
  "language_info": {
   "codemirror_mode": {
    "name": "ipython",
    "version": 3
   },
   "file_extension": ".py",
   "mimetype": "text/x-python",
   "name": "python",
   "nbconvert_exporter": "python",
   "pygments_lexer": "ipython3",
   "version": "3.8.5"
  }
 },
 "nbformat": 4,
 "nbformat_minor": 4
}
